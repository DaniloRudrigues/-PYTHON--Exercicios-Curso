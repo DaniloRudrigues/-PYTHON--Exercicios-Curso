{
  "nbformat": 4,
  "nbformat_minor": 0,
  "metadata": {
    "colab": {
      "name": "Aula 02 - [G] - Operadores Lógicos e Estrutura Condicional.ipynb",
      "provenance": [],
      "collapsed_sections": []
    },
    "kernelspec": {
      "name": "python3",
      "display_name": "Python 3"
    }
  },
  "cells": [
    {
      "cell_type": "markdown",
      "metadata": {
        "id": "L1_5F0TnxazF"
      },
      "source": [
        "# Exercícios\n"
      ]
    },
    {
      "cell_type": "markdown",
      "metadata": {
        "id": "ALgn8jEOXI8m"
      },
      "source": [
        "1. Informe a saída das seguintes expressões:\n",
        "\n",
        "a)\n",
        "```python\n",
        "3 < 8 # True\n",
        "```\n",
        "b)\n",
        "```python\n",
        "a = 12\n",
        "b = a - 10\n",
        "a > b\n",
        "```\n",
        "c)\n",
        "```python\n",
        "16 != 16\n",
        "```\n",
        "d)\n",
        "```python\n",
        "2 < 5 > 10\n",
        "```\n",
        "e)\n",
        "```python\n",
        "3 <= 5 >= 2\n",
        "```"
      ]
    },
    {
      "cell_type": "code",
      "metadata": {
        "id": "h4ye6OPQWmFP",
        "colab": {
          "base_uri": "https://localhost:8080/"
        },
        "outputId": "8c25c788-55a5-440c-c1b1-10cdf0f2a693"
      },
      "source": [
        "#A)\n",
        "print(3 < 8)\n",
        "#B)\n",
        "a=12\n",
        "b=a-10\n",
        "print(a > b)\n",
        "#C)\n",
        "print(16 != 16)\n",
        "#D)\n",
        "print(2 < 5 > 10)\n",
        "#E)\n",
        "print(3 <= 5 >= 2)"
      ],
      "execution_count": null,
      "outputs": [
        {
          "output_type": "stream",
          "name": "stdout",
          "text": [
            "True\n",
            "True\n",
            "False\n",
            "False\n",
            "True\n"
          ]
        }
      ]
    },
    {
      "cell_type": "markdown",
      "metadata": {
        "id": "38fv7groq1TP"
      },
      "source": [
        "2. Verifique se as igualdades abaixo são verdadeiras:"
      ]
    },
    {
      "cell_type": "markdown",
      "metadata": {
        "id": "NVrRDMptq-XV"
      },
      "source": [
        "**(a)** $2 \\times 2.0 = 4$"
      ]
    },
    {
      "cell_type": "code",
      "metadata": {
        "id": "WUKZ6b78rA7V",
        "colab": {
          "base_uri": "https://localhost:8080/"
        },
        "outputId": "947cb056-718d-40fd-dbcf-a4769b2bbb80"
      },
      "source": [
        "print(2*2.0 == 4)"
      ],
      "execution_count": null,
      "outputs": [
        {
          "output_type": "stream",
          "name": "stdout",
          "text": [
            "True\n"
          ]
        }
      ]
    },
    {
      "cell_type": "markdown",
      "metadata": {
        "id": "tOJCnahPrD-W"
      },
      "source": [
        "**(b)** $2 \\times 3 = 5$"
      ]
    },
    {
      "cell_type": "code",
      "metadata": {
        "id": "GkMDHX0vrEqZ",
        "colab": {
          "base_uri": "https://localhost:8080/"
        },
        "outputId": "df303954-6583-4c62-f958-304ad4c45edc"
      },
      "source": [
        "print(2*3 == 5)"
      ],
      "execution_count": null,
      "outputs": [
        {
          "output_type": "stream",
          "name": "stdout",
          "text": [
            "False\n"
          ]
        }
      ]
    },
    {
      "cell_type": "markdown",
      "metadata": {
        "id": "bmiounPQrE7N"
      },
      "source": [
        "**(c)** $4a + 3 = b$, para $a=3$ e $b=15$ (primeiro declare as variáveis `a` e `b`)"
      ]
    },
    {
      "cell_type": "code",
      "metadata": {
        "id": "gYX4EINtrHR9",
        "colab": {
          "base_uri": "https://localhost:8080/"
        },
        "outputId": "79e55db6-cd42-4b07-b2cb-5fb38208cafb"
      },
      "source": [
        "a = 3\n",
        "b = 15\n",
        "print(4*a + 3 == b)"
      ],
      "execution_count": null,
      "outputs": [
        {
          "output_type": "stream",
          "name": "stdout",
          "text": [
            "True\n"
          ]
        }
      ]
    },
    {
      "cell_type": "markdown",
      "metadata": {
        "id": "8cxnTi98vCBA"
      },
      "source": [
        "3. Faça um programa que calcule as raízes de uma equação do segundo grau, na forma `ax² + bx + c`. O programa deverá pedir os valores de a, b e c e fazer as consistências, informando ao usuário nas seguintes situações:\n",
        "\n",
        "a - Se o usuário informar o valor de A igual a zero, a equação não é do segundo grau e o programa não deve pedir os demais valores, sendo encerrado;\n",
        "\n",
        "b - Se o delta calculado for negativo, a equação não possui raizes reais. Informe ao usuário e encerre o programa;\n",
        "\n",
        "c - Se o delta calculado for igual a zero a equação possui apenas uma raiz real; informe-a ao usuário;\n",
        "\n",
        "d - Se o delta for positivo, a equação possui duas raiz reais; informe-as ao usuário;"
      ]
    },
    {
      "cell_type": "code",
      "metadata": {
        "id": "OXnitl8yvPel",
        "colab": {
          "base_uri": "https://localhost:8080/"
        },
        "outputId": "b44da790-474d-47d8-c5ff-46b0344f72e7"
      },
      "source": [
        "a = float(input(\"Digite o valor da constante (a) para uma função de 2° grau: \"))\n",
        "if a != 0:\n",
        "  b = float(input(\"Digite o valor da constante (b) para uma função de 2° grau: \"))\n",
        "  c = float(input(\"Digite o valor da constante (c) para uma função de 2° grau: \"))\n",
        "\n",
        "  delta = b**2-4*a*c\n",
        "\n",
        "  if delta < 0:\n",
        "    print(\"A equação não possui raizes reais\")\n",
        "  elif delta == 0:\n",
        "    x0 = (-b)/2*a\n",
        "    print(\"A equação possui apenas uma raiz real que é:\",x0)\n",
        "  else:\n",
        "    x1 = (-b+(delta**(0.5)))/2*a\n",
        "    x2 = (-b-(delta**(0.5)))/2*a\n",
        "    print(\"A equação possui duas raiz reais que são:\",x1 ,\"e \", x2)\n",
        "\n",
        "else:\n",
        "  print('a equação não é do segundo grau - PROGRAMA ENCERRADO')"
      ],
      "execution_count": null,
      "outputs": [
        {
          "output_type": "stream",
          "name": "stdout",
          "text": [
            "Digite o valor da constante (a) para uma função de 2° grau: 1\n",
            "Digite o valor da constante (b) para uma função de 2° grau: -5\n",
            "Digite o valor da constante (c) para uma função de 2° grau: 6\n",
            "A equação possui duas raiz reais que são: 3.0 e  2.0\n"
          ]
        }
      ]
    },
    {
      "cell_type": "markdown",
      "metadata": {
        "id": "Hjpnzu9HvQiU"
      },
      "source": [
        "4. Faça um Programa que peça um número correspondente a um determinado ano e em seguida informe se este ano é ou não bissexto."
      ]
    },
    {
      "cell_type": "code",
      "metadata": {
        "id": "Lh2LloRVvTvc",
        "colab": {
          "base_uri": "https://localhost:8080/"
        },
        "outputId": "c5ec5e98-5117-4e30-9613-342abb90365c"
      },
      "source": [
        "ano = int(input(\"Digite o ano: \"))\n",
        "resto = ano % 4\n",
        "if resto == 0:\n",
        "  print(\"o ano de\",ano ,\"é bissexto\")\n",
        "else:\n",
        "  print(\"o ano de\",ano ,\"NÃO é bissexto\")"
      ],
      "execution_count": null,
      "outputs": [
        {
          "output_type": "stream",
          "name": "stdout",
          "text": [
            "Digite o ano: 1992\n",
            "o ano de 1992 é bissexto\n"
          ]
        }
      ]
    },
    {
      "cell_type": "markdown",
      "metadata": {
        "id": "XunttGjtvUH0"
      },
      "source": [
        "5. Faça um Programa que peça uma data no formato dd/mm/aaaa e determine se a mesma é uma data válida."
      ]
    },
    {
      "cell_type": "code",
      "metadata": {
        "id": "2UzoTDudvUfr",
        "colab": {
          "base_uri": "https://localhost:8080/"
        },
        "outputId": "4eb3d69f-f061-4e92-9a81-bcc8eb0666dc"
      },
      "source": [
        "print(\"Digite uma data no formato dd/mm/aaaa\")\n",
        "dia = int(input(\"Primeiro, digite o dia (valores entre 1 à 31):\"))\n",
        "mes = int(input(\"Em seguida, digite o mês (valores entre 1 à 12):\"))\n",
        "ano = int(input(\"Por fim, digite o ano:\"))\n",
        "\n",
        "resto = ano % 4\n",
        "\n",
        "if resto == 0:\n",
        "  if mes==1 or mes==3 or mes==5 or mes==7 or mes==8 or mes==10 or mes==12:\n",
        "    if dia >= 1 and dia <= 31:\n",
        "      print(dia,\"/\",mes,\"/\",ano)\n",
        "    else:\n",
        "      print(\"O dia da data está fora dos padrões\")\n",
        "  elif mes==2:\n",
        "    if dia >= 1 and dia <= 29:\n",
        "      print(dia,\"/\",mes,\"/\",ano)\n",
        "    else:\n",
        "      print(\"O dia da data está fora dos padrões\")\n",
        "  elif mes==4 or mes==6 or mes==9 or mes==11:\n",
        "    if dia >= 1 and dia <= 30:\n",
        "      print(dia,\"/\",mes,\"/\",ano)\n",
        "    else:\n",
        "      print(\"O dia da data está fora dos padrões\")\n",
        "  else:\n",
        "    print(\"O mês da data está fora dos padrões\")\n",
        "else:\n",
        "  if mes==1 or mes==3 or mes==5 or mes==7 or mes==8 or mes==10 or mes==12:\n",
        "    if dia >= 1 and dia <= 31:\n",
        "      print(dia,\"/\",mes,\"/\",ano)\n",
        "    else:\n",
        "      print(\"O dia da data está fora dos padrões\")\n",
        "  elif mes==2:\n",
        "    if dia >= 1 and dia <= 28:\n",
        "      print(dia,\"/\",mes,\"/\",ano)\n",
        "    else:\n",
        "      print(\"O dia da data está fora dos padrões, o ano não é bissexto\")\n",
        "  elif mes==4 or mes==6 or mes==9 or mes==11:\n",
        "    if dia >= 1 and dia <= 30:\n",
        "      print(dia,\"/\",mes,\"/\",ano)\n",
        "    else:\n",
        "      print(\"O dia da data está fora dos padrões\")\n",
        "  else:\n",
        "    print(\"O mês da data está fora dos padrões\")\n"
      ],
      "execution_count": null,
      "outputs": [
        {
          "output_type": "stream",
          "name": "stdout",
          "text": [
            "Digite uma data no formato dd/mm/aaaa\n",
            "Primeiro, digite o dia (valores entre 1 à 31):29\n",
            "Em seguida, digite o mês (valores entre 1 à 12):2\n",
            "Por fim, digite o ano:2001\n",
            "O dia da data está fora dos padrões, o ano não é bissexto\n"
          ]
        }
      ]
    },
    {
      "cell_type": "markdown",
      "metadata": {
        "id": "TgyLzECrvUnP"
      },
      "source": [
        "6. Faça um Programa que leia um número e exiba o dia correspondente da semana. (1-Domingo, 2- Segunda, etc.), se digitar outro valor deve aparecer valor inválido."
      ]
    },
    {
      "cell_type": "code",
      "metadata": {
        "id": "aDvuInTgvifq",
        "colab": {
          "base_uri": "https://localhost:8080/"
        },
        "outputId": "a33a4ff6-155b-4396-e5e2-3a8070f98bd2"
      },
      "source": [
        "var1 = int(input('Digite a um número de 1 a 7 para receber um dia da semana: '))\n",
        "\n",
        "var2 = ['DOMINGO','SEGUNDA','TERÇA','QUARTA','QUINTA','SEXTA','SÁBADO']\n",
        "print(var2[var1 - 1])"
      ],
      "execution_count": null,
      "outputs": [
        {
          "output_type": "stream",
          "name": "stdout",
          "text": [
            "Digite a um número de 1 a 7 para receber um dia da semana: 3\n",
            "TERÇA\n"
          ]
        }
      ]
    },
    {
      "cell_type": "markdown",
      "metadata": {
        "id": "Si_23BWYxrO5"
      },
      "source": [
        "7. Crie um programa para um circo, no qual dada a idade de uma pessoa, seja indicado o valor do ingresso segundo as regras:\n",
        "\n",
        "a) A entrada para qualquer pessoa com menos de 4 anos ou maior que 60 é gratuita;\n",
        "\n",
        "b) a entrada para qualquer pessoa com idade entre 4 e 18 custa 20 reais;\n",
        "\n",
        "c) a entrada para qualquer pessoa com 18 ou mais custa 30 reais;\n",
        "\n",
        "d) estudantes e professores pagam meia-entrada."
      ]
    },
    {
      "cell_type": "code",
      "metadata": {
        "id": "pNZbzASKxtzV",
        "colab": {
          "base_uri": "https://localhost:8080/"
        },
        "outputId": "1bd1a8b7-243b-46a8-c908-de0777ec9db4"
      },
      "source": [
        "var1 = str(input('Deseja ingresso para estudante ou professor, se sim digite \"s\", se não digite \"n\": '))\n",
        "\n",
        "# garantia de sim ou não\n",
        "while var1 != 's' and var1 != 'n':\n",
        "  print('Valor inválido. tente novamente')\n",
        "  var1 = str(input('Deseja ingresso para estudante ou professor, se sim digite \"s\", se não digite \"n\": '))\n",
        "\n",
        "var2 = int(input('Qual a sua idade? '))\n",
        "# cálculo do ingresso\n",
        "if var1 == 'n':\n",
        "  if var2 <= 4 or var2 >= 60:\n",
        "    print('Entrada Gratuita')\n",
        "  elif var2 > 4 and var2 <= 18:\n",
        "    print('Entrada custa R$ 20.00')\n",
        "  else:\n",
        "    print('Entrada custa R$ 30.00')\n",
        "else:\n",
        "  if var2 <= 4 or var2 >= 60:\n",
        "    print('Entrada Gratuita')\n",
        "  elif var2 > 4 and var2 <= 18:\n",
        "    print('Entrada custa R$ 10.00')\n",
        "  else:\n",
        "    print('Entrada custa R$ 15.00')"
      ],
      "execution_count": null,
      "outputs": [
        {
          "output_type": "stream",
          "name": "stdout",
          "text": [
            "Deseja ingresso para estudante ou professor, se sim digite \"s\", se não digite \"n\": x\n",
            "Valor inválido. tente novamente\n",
            "Deseja ingresso para estudante ou professor, se sim digite \"s\", se não digite \"n\": s\n",
            "Qual a sua idade? 32\n",
            "Entrada custa R$ 15.00\n"
          ]
        }
      ]
    },
    {
      "cell_type": "markdown",
      "metadata": {
        "id": "FR7yDSeiqG3C"
      },
      "source": [
        "8. Complete o código na célula abaixo para imprimir uma mensagem informando se um aluno foi aprovado ou reprovado em uma disciplina com base em sua nota final. A nota mínima necessária para aprovação é  5 ."
      ]
    },
    {
      "cell_type": "code",
      "metadata": {
        "id": "SOYR5rb_qJeM",
        "colab": {
          "base_uri": "https://localhost:8080/"
        },
        "outputId": "22acd74b-b66c-4f1d-e69d-179133c52426"
      },
      "source": [
        "nota = float(input('Digite a nota final do aluno: '))\n",
        "if nota >= 5 and nota <= 10:\n",
        "  print('Aluno Aprovado')\n",
        "elif nota >=0 and nota < 5:\n",
        "  print('Aluno Reprovado')\n",
        "else:\n",
        "  print('Nota inválida')"
      ],
      "execution_count": null,
      "outputs": [
        {
          "output_type": "stream",
          "name": "stdout",
          "text": [
            "Digite a nota final do aluno: 5.5\n",
            "Aluno Aprovado\n"
          ]
        }
      ]
    },
    {
      "cell_type": "markdown",
      "metadata": {
        "id": "Hm-cqUzIqdiM"
      },
      "source": [
        "9. Construa uma pequena **chave dicotômica** para identificar uma determinada planta como membro de um dos principais grupos: *Bryophyta*, *Pteridophyta*, *Gymnospermae* ou *Angiospermae*.\n",
        "A identificação se dá com base na presença (1) ou ausência (0) de três caracteres: **vascularização**, **sementes** e **flores**. \n",
        "Utilize a tabela abaixo como referência."
      ]
    },
    {
      "cell_type": "markdown",
      "metadata": {
        "id": "rb-IaXMLqmwB"
      },
      "source": [
        "| Grupo | Vascularização| Sementes| Flores |\n",
        "|--|--|--|--|\n",
        "| Bryophyta | 0 | 0 | 0 |\n",
        "| Pteridophyta | 1| 0 | 0 |\n",
        "| Gymnospermae | 1 | 1 | 0 |\n",
        "| Angiospermae | 1 | 1 | 1 |\n"
      ]
    },
    {
      "cell_type": "code",
      "metadata": {
        "id": "zoQsaFZjqcxA",
        "outputId": "09e85c10-002f-4d9d-9a31-5a57ede9c88d",
        "colab": {
          "base_uri": "https://localhost:8080/"
        }
      },
      "source": [
        "# Estas variáveis armazenam a presença (1) ou ausência (0) de cada caractere\n",
        "vasc = 1\n",
        "sem = 0\n",
        "flor = 0\n",
        "\n",
        "# Seu código aqui\n",
        "if vasc == 0 and sem == 0 and flor == 0:\n",
        "  print('A espécie é Bryophyta')\n",
        "elif  vasc == 1 and sem == 0 and flor == 0:\n",
        "  print('A espécie é Pteridophyta')\n",
        "elif  vasc == 1 and sem == 1 and flor == 0:\n",
        "  print('A espécie é Gymnospermae')\n",
        "elif  vasc == 1 and sem == 1 and flor == 1:\n",
        "  print('A espécie é Gymnospermae')\n",
        "else:\n",
        "  print('Espécie não cadastrada')"
      ],
      "execution_count": null,
      "outputs": [
        {
          "output_type": "stream",
          "name": "stdout",
          "text": [
            "A espécie é Pteridophyta\n"
          ]
        }
      ]
    },
    {
      "cell_type": "code",
      "metadata": {
        "id": "0K5jGtEoVswx",
        "outputId": "127f6000-3d9e-40dc-c115-906fed4a02af",
        "colab": {
          "base_uri": "https://localhost:8080/"
        }
      },
      "source": [
        "# Estas variáveis armazenam a presença (1) ou ausência (0) de cada caractere\n",
        "vasc = 0\n",
        "sem = 0\n",
        "flor = 0\n",
        "\n",
        "# Seu código aqui\n",
        "if vasc == 0 and sem == 0 and flor == 0:\n",
        "  print('A espécie é Bryophyta')\n",
        "elif  vasc == 1 and sem == 0 and flor == 0:\n",
        "  print('A espécie é Pteridophyta')\n",
        "elif  vasc == 1 and sem == 1 and flor == 0:\n",
        "  print('A espécie é Gymnospermae')\n",
        "elif  vasc == 1 and sem == 1 and flor == 1:\n",
        "  print('A espécie é Gymnospermae')\n",
        "else:\n",
        "  print('Espécie não cadastrada')"
      ],
      "execution_count": null,
      "outputs": [
        {
          "output_type": "stream",
          "name": "stdout",
          "text": [
            "A espécie é Bryophyta\n"
          ]
        }
      ]
    },
    {
      "cell_type": "markdown",
      "metadata": {
        "id": "aNI2VzpEsuSo"
      },
      "source": [
        "10. Um posto está vendendo combustíveis com a seguinte tabela de descontos:\n",
        "\n",
        "a. Álcool:\n",
        "\n",
        "    até 20 litros, desconto de 3% por litro\n",
        "    acima de 20 litros, desconto de 5% por litro\n",
        "\n",
        "b. Gasolina:\n",
        "\n",
        "    até 20 litros, desconto de 4% por litro\n",
        "    acima de 20 litros, desconto de 6% por litro\n",
        "\n",
        "Escreva um algoritmo que leia o número de litros vendidos, o tipo de combustível (codificado da seguinte forma: A-álcool, G-gasolina), calcule e imprima o valor a ser pago pelo cliente sabendo-se que o preço do litro da gasolina é 2.50 o preço do litro do álcool é 1,90."
      ]
    },
    {
      "cell_type": "code",
      "metadata": {
        "id": "D3MJKrgxtlzb",
        "outputId": "2bb4b276-0d20-456a-fcfe-b2825ab28a98",
        "colab": {
          "base_uri": "https://localhost:8080/"
        }
      },
      "source": [
        "t = str(input('Digite o tipo de combistível utilizado \"A\" para álcool ou \"G\" para gasolina: '))\n",
        "while  t != \"A\" and t != \"a\" and t != \"G\" and t != \"g\":\n",
        "  print('Código digitado inválido. Tente novamente.')\n",
        "  t = str(input('Digite o tipo de combistível utilizado \"A\" para álcool ou \"G\" para gasolina: '))\n",
        "\n",
        "vol = float(input('Digite o volume consumido de combustível (em litros): '))\n",
        "while vol < 0:\n",
        "  print('Volume negativo. Tente novamente.')\n",
        "  vol = float(input('Digite o volume consumido de combustível (em litros): '))\n",
        "\n",
        "ap = 1.90\n",
        "gp = 2.50\n",
        "\n",
        "if t == 'a' or t == 'A':\n",
        "  if vol <= 20:\n",
        "    des1 = 1-0.03\n",
        "    var1 = float(round(des1 * vol * ap,2))\n",
        "    print('o preço é R$',var1)\n",
        "  else:\n",
        "    des2 = 1-0.05\n",
        "    var2 = float(round(des2 * vol * ap,2))\n",
        "    print('o preço é R$',var2)\n",
        "else:\n",
        "  if vol <= 20:\n",
        "    des3 = 1-0.04\n",
        "    var3 = float(round(des3 * vol * gp,2))\n",
        "    print('o preço é R$',var3)\n",
        "  else:\n",
        "    des4 = 1-0.06\n",
        "    var4 = float(round(des4 * vol * gp,2))\n",
        "    print('o preço é R$',var4)"
      ],
      "execution_count": null,
      "outputs": [
        {
          "output_type": "stream",
          "name": "stdout",
          "text": [
            "Digite o tipo de combistível utilizado \"A\" para álcool ou \"G\" para gasolina: y\n",
            "Código digitado inválido. Tente novamente.\n",
            "Digite o tipo de combistível utilizado \"A\" para álcool ou \"G\" para gasolina: G\n",
            "Digite o volume consumido de combustível (em litros): -95\n",
            "Volume negativo. Tente novamente.\n",
            "Digite o volume consumido de combustível (em litros): 100\n",
            "o preço é R$ 235.0\n"
          ]
        }
      ]
    },
    {
      "cell_type": "markdown",
      "metadata": {
        "id": "wpMhfBBetmCa"
      },
      "source": [
        "11. Faça um Programa que leia 2 números e em seguida pergunte ao usuário qual operação ele deseja realizar. O resultado da operação deve ser acompanhado de uma frase que diga se o número é:\n",
        "\n",
        "a. par ou ímpar;\n",
        "\n",
        "b. positivo ou negativo;\n",
        "\n",
        "c. inteiro ou decimal."
      ]
    },
    {
      "cell_type": "code",
      "metadata": {
        "id": "ypcUM1gvtuVY",
        "colab": {
          "base_uri": "https://localhost:8080/"
        },
        "outputId": "66ba62a8-6df4-4ca4-c77e-336dfbad1395"
      },
      "source": [
        "a = float(input('Digite um número: '))\n",
        "b = float(input('Digite um número: '))\n",
        "print()\n",
        "print('Qual a operação será escolhida:')\n",
        "print('   \"+\" para SOMA')\n",
        "print('   \"-\" para SUBTRAÇÃO')\n",
        "print('   \"*\" para MULTIPLICAÇÃO')\n",
        "print('   \"/\" para DIVISÃO')\n",
        "print('   \"**\" para POTENCIAÇÃO')\n",
        "op = str(input('Qual a opção escolhida: '))\n",
        "\n",
        "while op != \"+\" and op != \"-\" and op != \"*\" and op != \"/\" and op != \"**\":\n",
        "  print('Escolha inválida. Tente novamente')\n",
        "  op = str(input('Qual a opção escolhida: '))\n",
        "\n",
        "if op == \"+\":\n",
        "  c = a + b\n",
        "  if c % 2 == 0:\n",
        "    poui = 'PAR'\n",
        "  else:\n",
        "    poui = 'IMPAR'\n",
        "  if c >= 0:\n",
        "    poun = 'POSITIVO'\n",
        "  else:\n",
        "    poun = 'NEGATIVO'\n",
        "  if c - round(c) == 0:\n",
        "    tip = 'INTEIRO'\n",
        "  else:\n",
        "     tip = 'DECIMAL'\n",
        "  print('O resultado é',c,'que é um valor',poui,',',poun,'e',tip)\n",
        "elif op == '-':\n",
        "  c = a - b\n",
        "  if c % 2 == 0:\n",
        "    poui = 'PAR'\n",
        "  else:\n",
        "    poui = 'IMPAR'\n",
        "  if c >= 0:\n",
        "    poun = 'POSITIVO'\n",
        "  else:\n",
        "    poun = 'NEGATIVO'\n",
        "  if c - round(c) == 0:\n",
        "    tip = 'INTEIRO'\n",
        "  else:\n",
        "    tip = 'DECIMAL'\n",
        "  print('O resultado é',c,'que é um valor',poui,',',poun,'e',tip)\n",
        "elif op == '*':\n",
        "  c = a * b\n",
        "  if c % 2 == 0:\n",
        "    poui = 'PAR'\n",
        "  else:\n",
        "    poui = 'IMPAR'\n",
        "  if c >= 0:\n",
        "    poun = 'POSITIVO'\n",
        "  else:\n",
        "    poun = 'NEGATIVO'\n",
        "  if c - round(c) == 0:\n",
        "    tip = 'INTEIRO'\n",
        "  else:\n",
        "    tip = 'DECIMAL'\n",
        "  print('O resultado é',c,'que é um valor',poui,',',poun,'e',tip)\n",
        "elif op == '/':\n",
        "  c = a / b\n",
        "  if c % 2 == 0:\n",
        "    poui = 'PAR'\n",
        "  else:\n",
        "    poui = 'IMPAR'\n",
        "  if c >= 0:\n",
        "    poun = 'POSITIVO'\n",
        "  else:\n",
        "    poun = 'NEGATIVO'\n",
        "  if c - round(c) == 0:\n",
        "    tip = 'INTEIRO'\n",
        "  else:\n",
        "    tip = 'DECIMAL'\n",
        "  print('O resultado é',c,'que é um valor',poui,',',poun,'e',tip)\n",
        "else:\n",
        "  c = a ** b\n",
        "  if c % 2 == 0:\n",
        "    poui = 'PAR'\n",
        "  else:\n",
        "    poui = 'IMPAR'\n",
        "  if c >= 0:\n",
        "    poun = 'POSITIVO'\n",
        "  else:\n",
        "    poun = 'NEGATIVO'\n",
        "  if c - round(c) == 0:\n",
        "    tip = 'INTEIRO'\n",
        "  else:\n",
        "    tip = 'DECIMAL'\n",
        "  print('O resultado é',c,'que é um valor',poui,',',poun,'e',tip)"
      ],
      "execution_count": null,
      "outputs": [
        {
          "output_type": "stream",
          "name": "stdout",
          "text": [
            "Digite um número: 10.5\n",
            "Digite um número: -8.5\n",
            "\n",
            "Qual a operação será escolhida:\n",
            "   \"+\" para SOMA\n",
            "   \"-\" para SUBTRAÇÃO\n",
            "   \"*\" para MULTIPLICAÇÃO\n",
            "   \"/\" para DIVISÃO\n",
            "   \"**\" para POTENCIAÇÃO\n",
            "Qual a opção escolhida: asd\n",
            "Escolha inválida. Tente novamente\n",
            "Qual a opção escolhida: +\n",
            "O resultado é 2.0 que é um valor PAR , POSITIVO e INTEIRO\n"
          ]
        }
      ]
    }
  ]
}