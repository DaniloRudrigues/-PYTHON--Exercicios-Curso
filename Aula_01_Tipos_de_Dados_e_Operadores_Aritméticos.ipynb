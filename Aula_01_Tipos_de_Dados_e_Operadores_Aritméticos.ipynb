{
  "nbformat": 4,
  "nbformat_minor": 0,
  "metadata": {
    "colab": {
      "name": "Aula 01 - [G] - Tipos de Dados e Operadores Aritméticos.ipynb",
      "provenance": [],
      "collapsed_sections": []
    },
    "kernelspec": {
      "name": "python3",
      "display_name": "Python 3"
    }
  },
  "cells": [
    {
      "cell_type": "markdown",
      "metadata": {
        "id": "ALgn8jEOXI8m"
      },
      "source": [
        "# Exercícios\n",
        "\n",
        "1. Faça um Programa que mostre a mensagem \"Alo mundo\" na tela"
      ]
    },
    {
      "cell_type": "code",
      "metadata": {
        "id": "E-tm-Ac-dkKI",
        "colab": {
          "base_uri": "https://localhost:8080/"
        },
        "outputId": "6cb276f5-4e10-466b-b209-cd167fb68dd6"
      },
      "source": [
        "print(\"Alô mundo\")"
      ],
      "execution_count": 1,
      "outputs": [
        {
          "output_type": "stream",
          "name": "stdout",
          "text": [
            "Alô mundo\n"
          ]
        }
      ]
    },
    {
      "cell_type": "markdown",
      "metadata": {
        "id": "H9Xmh3n0dku7"
      },
      "source": [
        "\n",
        "2. Faça um Programa que peça um número e então mostre a mensagem `O número informado foi [número]`."
      ]
    },
    {
      "cell_type": "code",
      "metadata": {
        "id": "oJxXXoQMePMm",
        "colab": {
          "base_uri": "https://localhost:8080/"
        },
        "outputId": "013c8865-116c-4482-d94b-d30ec0b71e4a"
      },
      "source": [
        "var = input(\"Digite um número: \")\n",
        "print(\"O número informado foi\",var)"
      ],
      "execution_count": 2,
      "outputs": [
        {
          "output_type": "stream",
          "name": "stdout",
          "text": [
            "Digite um número: 12\n",
            "O número informado foi 12\n"
          ]
        }
      ]
    },
    {
      "cell_type": "markdown",
      "metadata": {
        "id": "Mc8ww-KEdndf"
      },
      "source": [
        "\n",
        "3. Faça um Programa que peça dois números e imprima a soma."
      ]
    },
    {
      "cell_type": "code",
      "metadata": {
        "id": "SfwZe2zseO3m",
        "colab": {
          "base_uri": "https://localhost:8080/"
        },
        "outputId": "d1cb64c9-4513-4f60-a778-603848b77547"
      },
      "source": [
        "var1 = float(input(\"Digite o primeiro número: \"))\n",
        "var2 = float(input(\"Digite o segundo número: \"))\n",
        "print(\"A soma dos dois números é:\", var1 + var2)"
      ],
      "execution_count": 3,
      "outputs": [
        {
          "output_type": "stream",
          "name": "stdout",
          "text": [
            "Digite o primeiro número: 1.2\n",
            "Digite o segundo número: 2.3\n",
            "A soma dos dois números é: 3.5\n"
          ]
        }
      ]
    },
    {
      "cell_type": "markdown",
      "metadata": {
        "id": "MfVY2KazdpxA"
      },
      "source": [
        "\n",
        "4. Faça um Programa que peça as 4 notas bimestrais e mostre a média."
      ]
    },
    {
      "cell_type": "code",
      "metadata": {
        "id": "B5dg4jyLeOV9",
        "colab": {
          "base_uri": "https://localhost:8080/"
        },
        "outputId": "3ba1a917-046a-403d-9e63-d27aa06e4a16"
      },
      "source": [
        "var1 = float(input(\"Digite a nota 1: \"))\n",
        "var2 = float(input(\"Digite a nota 2: \"))\n",
        "var3 = float(input(\"Digite a nota 3: \"))\n",
        "var4 = float(input(\"Digite a nota 4: \"))\n",
        "print(\"A média das notas é:\", (var1 + var2 + var3 + var4)/4)"
      ],
      "execution_count": 4,
      "outputs": [
        {
          "output_type": "stream",
          "name": "stdout",
          "text": [
            "Digite a nota 1: 1.23\n",
            "Digite a nota 2: 5.23\n",
            "Digite a nota 3: 5.2\n",
            "Digite a nota 4: 89.2\n",
            "A média das notas é: 25.215\n"
          ]
        }
      ]
    },
    {
      "cell_type": "markdown",
      "metadata": {
        "id": "GYPjRaE1dsEo"
      },
      "source": [
        "\n",
        "5. Faça um Programa que converta metros para centímetros."
      ]
    },
    {
      "cell_type": "code",
      "metadata": {
        "id": "bDTpB4hxeOAS",
        "colab": {
          "base_uri": "https://localhost:8080/"
        },
        "outputId": "81c3dfd6-8310-49e1-c06f-27eb858617e7"
      },
      "source": [
        "var1 = float(input(\"Digite a quantidade de metros que deseja converter: \"))\n",
        "print(\"A quantidade de centímetros digitada é:\", var1 * 100,\"cm\")"
      ],
      "execution_count": 5,
      "outputs": [
        {
          "output_type": "stream",
          "name": "stdout",
          "text": [
            "Digite a quantidade de metros que deseja converter: 12.3\n",
            "A quantidade de centímetros digitada é: 1230.0 cm\n"
          ]
        }
      ]
    },
    {
      "cell_type": "markdown",
      "metadata": {
        "id": "Iw_6PGlvdt2P"
      },
      "source": [
        "\n",
        "6. Faça um Programa que peça o raio de um círculo, calcule e mostre sua área."
      ]
    },
    {
      "cell_type": "code",
      "metadata": {
        "id": "QBB456-ceNox",
        "colab": {
          "base_uri": "https://localhost:8080/"
        },
        "outputId": "fcf7758f-502a-4e59-b708-fb7d09c0724c"
      },
      "source": [
        "import math\n",
        "var1 = float(input(\"Digite o raio do círculo:\"))\n",
        "print(\"A área do círculo com a área digitada é:\", math.pi*var1**2)"
      ],
      "execution_count": 6,
      "outputs": [
        {
          "output_type": "stream",
          "name": "stdout",
          "text": [
            "Digite o raio do círculo:56\n",
            "A área do círculo com a área digitada é: 9852.03456165759\n"
          ]
        }
      ]
    },
    {
      "cell_type": "markdown",
      "metadata": {
        "id": "6WX2yHw8dvgh"
      },
      "source": [
        "\n",
        "7. Faça um Programa que calcule a área de um quadrado, em seguida mostre o dobro desta área para o usuário."
      ]
    },
    {
      "cell_type": "code",
      "metadata": {
        "id": "bq1uTrxieNIi",
        "colab": {
          "base_uri": "https://localhost:8080/"
        },
        "outputId": "5fa2a199-c870-48c3-ec86-16c36fc911d2"
      },
      "source": [
        "var1 = float(input(\"Digite a tamanho dos lados de um quadrado em metros:\"))\n",
        "area_quad = var1**2\n",
        "print(\"O dobro da área do quadrado escolhido é:\",area_quad*2,\"m²\")"
      ],
      "execution_count": 7,
      "outputs": [
        {
          "output_type": "stream",
          "name": "stdout",
          "text": [
            "Digite a tamanho dos lados de um quadrado em metros:5\n",
            "O dobro da área do quadrado escolhido é: 50.0 m²\n"
          ]
        }
      ]
    },
    {
      "cell_type": "markdown",
      "metadata": {
        "id": "OHtr_FwmdxNL"
      },
      "source": [
        "\n",
        "8. Faça um Programa que pergunte quanto você ganha por hora e o número de horas trabalhadas no mês. Calcule e mostre o total do seu salário no referido mês."
      ]
    },
    {
      "cell_type": "code",
      "metadata": {
        "id": "r8eK89x0eMzi",
        "colab": {
          "base_uri": "https://localhost:8080/"
        },
        "outputId": "54857e75-977c-4b1e-e418-b04be54d33aa"
      },
      "source": [
        "var1 = float(input(\"Digite o quanto sua hora de trabalho (em R$/hora):\"))\n",
        "var2 = float(input(\"Digite a quantidade horas trabalhada no mês (em horas):\"))\n",
        "print(\"O salário que será recebido no referido mês é de: R$\",var1*var2)"
      ],
      "execution_count": 8,
      "outputs": [
        {
          "output_type": "stream",
          "name": "stdout",
          "text": [
            "Digite o quanto sua hora de trabalho (em R$/hora):58.5\n",
            "Digite a quantidade horas trabalhada no mês (em horas):220\n",
            "O salário que será recebido no referido mês é de: R$ 12870.0\n"
          ]
        }
      ]
    },
    {
      "cell_type": "markdown",
      "metadata": {
        "id": "OTc5-XqodzSn"
      },
      "source": [
        "\n",
        "9. Faça um Programa que peça a temperatura em graus Fahrenheit, transforme e mostre a temperatura em graus Celsius.\n",
        "$ °C = 5 \\times ((°F-32) / 9) $"
      ]
    },
    {
      "cell_type": "code",
      "metadata": {
        "id": "bfkUM9cceMbv",
        "colab": {
          "base_uri": "https://localhost:8080/"
        },
        "outputId": "15bd9d8f-0fe0-4797-a92d-4930dc3eb608"
      },
      "source": [
        "var1 = float(input(\"Digite a temperatura em Fahrenheit (°F):\"))\n",
        "cels = round(5 * ((var1 - 32) / 9),2)\n",
        "print(\"A temperatura em Celsius é\",cels,\"°C\")"
      ],
      "execution_count": 9,
      "outputs": [
        {
          "output_type": "stream",
          "name": "stdout",
          "text": [
            "Digite a temperatura em Fahrenheit (°F):185\n",
            "A temperatura em Celsius é 85.0 °C\n"
          ]
        }
      ]
    },
    {
      "cell_type": "markdown",
      "metadata": {
        "id": "E17ya82wd1rv"
      },
      "source": [
        "10. Faça um programa que peça a temperatura em graus Celsius, transforme e mostre em graus Fahrenheit.\n",
        "\n",
        "$°F = (°C \\times 9 / 5) + 32 $"
      ]
    },
    {
      "cell_type": "code",
      "metadata": {
        "id": "5f6H4KPoeMBf",
        "colab": {
          "base_uri": "https://localhost:8080/"
        },
        "outputId": "69008c4c-8552-4caa-aa2d-c9352f7abe55"
      },
      "source": [
        "var1 = float(input(\"Digite a temperatura em Celsius (°C):\"))\n",
        "cels = round((var1*9/5)+32,2)\n",
        "print(\"A temperatura em Fahrenheit é\",cels,\"°F\")"
      ],
      "execution_count": 10,
      "outputs": [
        {
          "output_type": "stream",
          "name": "stdout",
          "text": [
            "Digite a temperatura em Celsius (°C):38\n",
            "A temperatura em Fahrenheit é 100.4 °F\n"
          ]
        }
      ]
    },
    {
      "cell_type": "markdown",
      "metadata": {
        "id": "gfkqRT1hd5Uq"
      },
      "source": [
        "\n",
        "11. Faça um Programa que peça 2 números inteiros e um número real. Calcule e mostre:\n",
        "    - o produto do dobro do primeiro com metade do segundo.\n",
        "    - soma do triplo do primeiro com o terceiro.\n",
        "    - terceiro elevado ao cubo."
      ]
    },
    {
      "cell_type": "code",
      "metadata": {
        "id": "U0LGrxCYeLbT",
        "colab": {
          "base_uri": "https://localhost:8080/"
        },
        "outputId": "ded13f70-5e7e-4fcd-8f0a-28899d4e45a2"
      },
      "source": [
        "int1 = int(input(\"Digite um número inteiro: \"))\n",
        "int2 = int(input(\"Digite outro número inteiro: \"))\n",
        "rea1 = float(input(\"Por fim, digite um número real: \"))\n",
        "\n",
        "A = round(float(2*int1+int2/2),2)\n",
        "B = round(float(3*int1+rea1),2)\n",
        "C = round(rea1**3,2)\n",
        "\n",
        "print(\"O produto do dobro do primeiro com metade do segundo é:\",A)\n",
        "print(\"A soma do triplo do primeiro com o terceiro é:\",B)\n",
        "print(\"O terceiro elevado ao cubo:\",C)"
      ],
      "execution_count": 11,
      "outputs": [
        {
          "output_type": "stream",
          "name": "stdout",
          "text": [
            "Digite um número inteiro: 5\n",
            "Digite outro número inteiro: 78\n",
            "Por fim, digite um número real: 5.26\n",
            "O produto do dobro do primeiro com metade do segundo é: 49.0\n",
            "A soma do triplo do primeiro com o terceiro é: 20.26\n",
            "O terceiro elevado ao cubo: 145.53\n"
          ]
        }
      ]
    },
    {
      "cell_type": "markdown",
      "metadata": {
        "id": "GeccMwZid7LV"
      },
      "source": [
        "\n",
        "12. Tendo como dados de entrada a altura de uma pessoa, construa um algoritmo que calcule seu peso ideal, usando a seguinte fórmula:\n",
        "\n",
        "$ peso\\_ideal = (72.7 \\times altura) - 58 $"
      ]
    },
    {
      "cell_type": "code",
      "metadata": {
        "id": "KG7NZMI4eK-R",
        "colab": {
          "base_uri": "https://localhost:8080/"
        },
        "outputId": "aaae6261-c96c-426b-9ff5-992859c06e85"
      },
      "source": [
        "var1 = float(input(\"Digite sua altura: \"))\n",
        "print(\"O peso ideal para sua altura de\",var1, \"é de:\", round((72.7*var1)-58,2),\"kg\")"
      ],
      "execution_count": 12,
      "outputs": [
        {
          "output_type": "stream",
          "name": "stdout",
          "text": [
            "Digite sua altura: 1.86\n",
            "O peso ideal para sua altura de 1.86 é de: 77.22 kg\n"
          ]
        }
      ]
    },
    {
      "cell_type": "markdown",
      "metadata": {
        "id": "TGfnvz6rd9Q3"
      },
      "source": [
        "13. Tendo como dado de entrada a altura ($h$) de uma pessoa, construa um algoritmo que calcule seu peso ideal, utilizando as seguintes fórmulas:\n",
        "- Para homens: $ (72.7 \\times h) - 58 $\n",
        "- Para mulheres: $ (62.1 \\times h) - 44.7 $"
      ]
    },
    {
      "cell_type": "code",
      "metadata": {
        "id": "OmLkbOULeKjQ",
        "colab": {
          "base_uri": "https://localhost:8080/"
        },
        "outputId": "0bf1f563-9c3f-4a23-baf3-98fa4f49c2c2"
      },
      "source": [
        "var1 = float(input(\"Digite sua altura: \"))\n",
        "i = str(input(\"Digite (m) para masculino ou (f) para feminino: \"))\n",
        "\n",
        "k=1\n",
        "while k == 1:\n",
        "  if i=='m':\n",
        "    print(\"O peso ideal para sua altura de\",var1, \"e sexo masculino é de:\", round((72.7*var1)-58,2),\"kg\")\n",
        "    k=2\n",
        "  elif i=='f':\n",
        "    print(\"O peso ideal para sua altura de\",var1, \"e sexo feminino é de:\", round((62.1*var1)-44.7,2),\"kg\")\n",
        "    k=2\n",
        "  else:\n",
        "    print(\"Sexo digitado não cadastrado\")\n",
        "    i = str(input(\"Digite (m) para masculino ou (f) para feminino: \"))"
      ],
      "execution_count": 13,
      "outputs": [
        {
          "output_type": "stream",
          "name": "stdout",
          "text": [
            "Digite sua altura: 1.86\n",
            "Digite (m) para masculino ou (f) para feminino: m\n",
            "O peso ideal para sua altura de 1.86 e sexo masculino é de: 77.22 kg\n"
          ]
        }
      ]
    },
    {
      "cell_type": "markdown",
      "metadata": {
        "id": "rUcxxTf6d_4G"
      },
      "source": [
        "\n",
        "14. João Papo-de-Pescador, homem de bem, comprou um microcomputador para controlar o rendimento diário de seu trabalho. Toda vez que ele traz um peso de peixes maior que o estabelecido pelo regulamento de pesca do estado de São Paulo (50 quilos) deve pagar uma multa de R\\$ 4,00 por quilo excedente. João precisa que você faça um programa que leia a variável peso (peso de peixes) e calcule o excesso. Gravar na variável excesso a quantidade de quilos além do limite e na variável multa o valor da multa que João deverá pagar. Imprima os dados do programa com as mensagens adequadas."
      ]
    },
    {
      "cell_type": "code",
      "metadata": {
        "id": "LacOhDYmeKAW",
        "colab": {
          "base_uri": "https://localhost:8080/"
        },
        "outputId": "14281389-3512-4b26-b0a6-a4d09162fc13"
      },
      "source": [
        "peso = float(input('Digite o peso em kg dos pescados: '))\n",
        "\n",
        "if peso >= 50.0:\n",
        "  exc = float(peso - 50.0)\n",
        "  multa = float(exc * 4)\n",
        "  print('Houve excesso de peso de,',round(exc,2),'kg e há uma multa de, R$',round(multa,2))\n",
        "else:\n",
        "  print('NÃO Houve excesso de peso')"
      ],
      "execution_count": 15,
      "outputs": [
        {
          "output_type": "stream",
          "name": "stdout",
          "text": [
            "Digite o peso em kg dos pescados: 53.5\n",
            "Houve excesso de peso de, 3.5 kg e há uma multa de, R$ 14.0\n"
          ]
        }
      ]
    },
    {
      "cell_type": "markdown",
      "metadata": {
        "id": "XH9X194beCpW"
      },
      "source": [
        "\n",
        "15. Faça um Programa que pergunte quanto você ganha por hora e o número de horas trabalhadas no mês. Calcule e mostre o total do seu salário no referido mês, sabendo-se que são descontados 11% para o Imposto de Renda, 8% para o INSS e 5% para o sindicato, faça um programa que nos dê:\n",
        "    - salário bruto.\n",
        "    - quanto pagou ao INSS.\n",
        "    - quanto pagou ao sindicato.\n",
        "    - o salário líquido.\n",
        "    - calcule os descontos e o salário líquido, conforme a tabela abaixo:\n",
        "\n",
        "```\n",
        "            + Salário Bruto : R$\n",
        "            - IR (11%) : R$\n",
        "            - INSS (8%) : R$\n",
        "            - Sindicato ( 5%) : R$\n",
        "            = Salário Liquido : R$\n",
        "```\n",
        "> Obs.: Salário Bruto - Descontos = Salário Líquido.\n"
      ]
    },
    {
      "cell_type": "code",
      "metadata": {
        "id": "bTjIis6yeJDi",
        "colab": {
          "base_uri": "https://localhost:8080/"
        },
        "outputId": "fdc382b9-bfb9-41d2-fdd1-c829427343cb"
      },
      "source": [
        "rph = float(input('Digite o quanto você ganha por hora (em R$/horas): '))\n",
        "hor = float(input('Digite o número de horas trabalhadas no mês (em horas):'))\n",
        "\n",
        "sal_bru = rph * hor\n",
        "ir = 0.11*sal_bru\n",
        "inss = 0.08*sal_bru\n",
        "sind = 0.05*sal_bru\n",
        "sal_liq = sal_bru - ir - inss - sind\n",
        "\n",
        "print()\n",
        "print('**********CONTRA-CHEQUE**********')\n",
        "print('+   Salário Bruto: R$',sal_bru)\n",
        "print('-        IR (11%): R$',ir)\n",
        "print('-       INSS (8%): R$',inss)\n",
        "print('-  Sindicato (5%): R$',sind)\n",
        "print('= Salário líquido: R$',sal_liq)\n",
        "print('*********************************')"
      ],
      "execution_count": 16,
      "outputs": [
        {
          "output_type": "stream",
          "name": "stdout",
          "text": [
            "Digite o quanto você ganha por hora (em R$/horas): 120.5\n",
            "Digite o número de horas trabalhadas no mês (em horas):220\n",
            "\n",
            "**********CONTRA-CHEQUE**********\n",
            "+   Salário Bruto: R$ 26510.0\n",
            "-        IR (11%): R$ 2916.1\n",
            "-       INSS (8%): R$ 2120.8\n",
            "-  Sindicato (5%): R$ 1325.5\n",
            "= Salário líquido: R$ 20147.600000000002\n",
            "*********************************\n"
          ]
        }
      ]
    },
    {
      "cell_type": "markdown",
      "metadata": {
        "id": "dQgoUp4FeEjs"
      },
      "source": [
        "\n",
        "16. Faça um programa para uma loja de tintas. O programa deverá pedir o tamanho em metros quadrados da área a ser pintada. Considere que a cobertura da tinta é de 1 litro para cada 3 metros quadrados e que a tinta é vendida em latas de 18 litros, que custam R\\$ 80,00. Informe ao usuário a quantidades de latas de tinta a serem compradas e o preço total. Obs.: somente são vendidos um número inteiro de latas."
      ]
    },
    {
      "cell_type": "code",
      "metadata": {
        "id": "BLgRrbqteIiY",
        "colab": {
          "base_uri": "https://localhost:8080/"
        },
        "outputId": "d2d6bdf2-2c75-4e14-b911-3071d0a9df0e"
      },
      "source": [
        "import math\n",
        "\n",
        "m2 = float(input('Digite a quantidade de área a ser pintada (em m²): '))\n",
        "\n",
        "rend     = 1/3    # Rendimento de 1/3 l/m²\n",
        "vol_lata = 18     # Litros por lata\n",
        "prec     = 80.0   # preço de uma lata \n",
        "\n",
        "litros = m2 * rend\n",
        "latas  = math.ceil(litros/vol_lata)\n",
        "custo  = latas * prec\n",
        "\n",
        "print('Serão necessárias',latas,'lata(s) resultando em R$',custo)"
      ],
      "execution_count": 18,
      "outputs": [
        {
          "output_type": "stream",
          "name": "stdout",
          "text": [
            "Digite a quantidade de área a ser pintada (em m²): 256.89\n",
            "Serão necessárias 5 lata(s) resultando em R$ 400.0\n"
          ]
        }
      ]
    },
    {
      "cell_type": "markdown",
      "metadata": {
        "id": "aDlscibneF_-"
      },
      "source": [
        "\n",
        "17. Faça um Programa para uma loja de tintas. O programa deverá pedir o tamanho em metros quadrados da área a ser pintada. Considere que a cobertura da tinta é de 1 litro para cada 6 metros quadrados e que a tinta é vendida em latas de 18 litros, que custam R\\$ 80,00 ou em galões de 3,6 litros, que custam R\\$ 25,00.\n",
        "  - Informe ao usuário as quantidades de tinta a serem compradas e os respectivos preços em 3 situações:\n",
        "  - comprar apenas latas de 18 litros;\n",
        "  - comprar apenas galões de 3,6 litros;\n",
        "  - misturar latas e galões, de forma que o desperdício de tinta seja menor. Acrescente 10% de folga e sempre arredonde os valores para cima, isto é, considere latas cheias."
      ]
    },
    {
      "cell_type": "code",
      "metadata": {
        "id": "wH56ThFaeIOx",
        "colab": {
          "base_uri": "https://localhost:8080/"
        },
        "outputId": "c5541de1-c8eb-4bb3-c8c4-e4551e256fe0"
      },
      "source": [
        "import math\n",
        "\n",
        "m2 = float(input('Digite a quantidade de área a ser pintada (em m²): '))\n",
        "\n",
        "rend     = 1/6    # Rendimento de 1/6 l/m²\n",
        "# Latas\n",
        "l_vol_lata = 18     # Litros por lata\n",
        "l_prec     = 80.0   # preço de uma lata \n",
        "# Galões\n",
        "g_vol_gal = 3.6     # Litros por galão\n",
        "g_prec     = 25.0   # preço de uma galão\n",
        "\n",
        "print('Serão apresentadas 3 situações de compras')\n",
        "print()\n",
        "print('************PRIMEIRA SITUAÇÃO************')\n",
        "a = math.ceil(m2*rend/l_vol_lata)\n",
        "b = l_prec*math.ceil(m2*rend/l_vol_lata)\n",
        "print('Utilizando latas de',l_vol_lata,'litros. Serão necessárias',a,'latas com o preço total de R$',b)\n",
        "print()\n",
        "print('************SEGUNDA  SITUAÇÃO************')\n",
        "c = math.ceil(m2*rend/g_vol_gal)\n",
        "d = g_prec*math.ceil(m2*rend/g_vol_gal)\n",
        "print('Utilizando galões de',g_vol_gal,'litros. Serão necessárias',c,'latas com o preço total de R$',d)\n",
        "print()\n",
        "print('************TERCEIRA SITUAÇÃO************')\n",
        "if l_prec/l_vol_lata <= g_prec/g_vol_gal:\n",
        "  resto = m2*rend % l_vol_lata\n",
        "  e = m2*rend//l_vol_lata\n",
        "  f = math.ceil(resto/g_vol_gal)\n",
        "  t = l_prec*(m2*rend//l_vol_lata)+g_prec*(math.ceil(resto/g_vol_gal))\n",
        "  print('Utilizando latas e galões. Serão necessárias',e,'latas e ',f,' galões com o preço total de R$',t)\n",
        "else:\n",
        "  restog = m2*rend % g_vol_gal\n",
        "  x = m2*rend//g_vol_gal\n",
        "  y = math.ceil(restog/l_vol_lata)\n",
        "  tt = l_prec*y+g_prec*x\n",
        "  print('Utilizando galões e latas. Serão necessárias',x,'galões e ',y,' latas com o preço total de R$',tt)"
      ],
      "execution_count": 19,
      "outputs": [
        {
          "output_type": "stream",
          "name": "stdout",
          "text": [
            "Digite a quantidade de área a ser pintada (em m²): 658.23\n",
            "Serão apresentadas 3 situações de compras\n",
            "\n",
            "************PRIMEIRA SITUAÇÃO************\n",
            "Utilizando latas de 18 litros. Serão necessárias 7 latas com o preço total de R$ 560.0\n",
            "\n",
            "************SEGUNDA  SITUAÇÃO************\n",
            "Utilizando galões de 3.6 litros. Serão necessárias 31 latas com o preço total de R$ 775.0\n",
            "\n",
            "************TERCEIRA SITUAÇÃO************\n",
            "Utilizando latas e galões. Serão necessárias 6.0 latas e  1  galões com o preço total de R$ 505.0\n"
          ]
        }
      ]
    },
    {
      "cell_type": "markdown",
      "metadata": {
        "id": "nsH6ogQWeHGf"
      },
      "source": [
        "\n",
        "18. Faça um programa que peça o tamanho de um arquivo para download (em MB) e a velocidade de um link de Internet (em Mbps), calcule e informe o tempo aproximado de download do arquivo usando este link (em minutos)."
      ]
    },
    {
      "cell_type": "code",
      "metadata": {
        "id": "KfQCgryMeHsf",
        "colab": {
          "base_uri": "https://localhost:8080/"
        },
        "outputId": "fa9081bc-f8d3-4afa-d47a-c6850c1ad1a9"
      },
      "source": [
        "tarq = float(input('Digite o tamanho do arquivo (me MB): '))\n",
        "vel = float(input('Digite a velocidade da internet (em Mbps): '))\n",
        "\n",
        "seg = tarq / vel\n",
        "min = seg / 60\n",
        "\n",
        "print()\n",
        "print('O tempo aproximado de download é',min,'minutos')"
      ],
      "execution_count": 20,
      "outputs": [
        {
          "output_type": "stream",
          "name": "stdout",
          "text": [
            "Digite o tamanho do arquivo (me MB): 125\n",
            "Digite a velocidade da internet (em Mbps): 10\n",
            "\n",
            "O tempo aproximado de download é 0.20833333333333334 minutos\n"
          ]
        }
      ]
    }
  ]
}